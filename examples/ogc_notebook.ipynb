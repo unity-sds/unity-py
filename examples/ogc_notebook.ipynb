{
 "cells": [
  {
   "cell_type": "code",
   "execution_count": 1,
   "id": "700eddd2-77af-4849-8343-3f0fef34ff73",
   "metadata": {},
   "outputs": [],
   "source": [
    "import requests\n",
    "import time\n",
    "\n",
    "from datetime import datetime\n",
    "from IPython.display import JSON\n",
    "\n",
    "from unity_sds_client.unity import Unity\n",
    "from unity_sds_client.unity_services import UnityServices\n",
    "from unity_sds_client.resources.job_status import JobStatus\n",
    "from unity_sds_client.unity import UnityEnvironments\n"
   ]
  },
  {
   "cell_type": "code",
   "execution_count": 2,
   "id": "4029cee7-9c5b-4ac1-bd54-45fb45be9397",
   "metadata": {},
   "outputs": [],
   "source": [
    "unity = Unity(UnityEnvironments.DEV)\n",
    "unity.set_venue_id(\"\")\n",
    "process_service = unity.client(UnityServices.PROCESS_SERVICE)"
   ]
  },
  {
   "cell_type": "code",
   "execution_count": 3,
   "id": "9d9f712d-6d80-4b27-a8dc-b12e3895ba59",
   "metadata": {},
   "outputs": [],
   "source": [
    "process_service.endpoint = \"http://k8s-airflow-ogcproce-944e409e1d-1354034359.us-west-2.elb.amazonaws.com:5001\""
   ]
  },
  {
   "cell_type": "code",
   "execution_count": 4,
   "id": "865f0b16-c954-45a9-984a-953be93749a3",
   "metadata": {},
   "outputs": [],
   "source": [
    "procs = process_service.get_processes()"
   ]
  },
  {
   "cell_type": "code",
   "execution_count": 5,
   "id": "199331bb-0414-4846-a61a-0b43b1142924",
   "metadata": {},
   "outputs": [
    {
     "name": "stdout",
     "output_type": "stream",
     "text": [
      "unity_sds_client.resources.Process(\n",
      "    id=\"cwltool_help_dag\",\n",
      "    process_version=\"1.0.0\"\n",
      "    title=\"Echo Process\",\n",
      "    abstract=\"This process accepts and number of input and simple echoes each input as an output.\",\n",
      "    keywords=\"None\"\n",
      ")\n",
      "unity_sds_client.resources.Process(\n",
      "    id=\"kubernetes_tasks_with_affinity\",\n",
      "    process_version=\"1.0.0\"\n",
      "    title=\"Karpenter Taks with Affinity\",\n",
      "    abstract=\"This process tests karpenter.\",\n",
      "    keywords=\"None\"\n",
      ")\n",
      "unity_sds_client.resources.Process(\n",
      "    id=\"hello_world\",\n",
      "    process_version=\"1.0.0\"\n",
      "    title=\"Echo Process\",\n",
      "    abstract=\"This process accepts and number of input and simple echoes each input as an output.\",\n",
      "    keywords=\"None\"\n",
      ")\n"
     ]
    }
   ],
   "source": [
    "for p in procs:\n",
    "    print(p)"
   ]
  },
  {
   "cell_type": "code",
   "execution_count": 6,
   "id": "399a8c39-a69b-49a8-b9b1-03de6b3bc62f",
   "metadata": {},
   "outputs": [],
   "source": [
    "process = process_service.get_process(\"hello_world\")"
   ]
  },
  {
   "cell_type": "code",
   "execution_count": 7,
   "id": "04dee225-aea0-4132-b427-dbd26085986e",
   "metadata": {},
   "outputs": [
    {
     "name": "stdout",
     "output_type": "stream",
     "text": [
      "unity_sds_client.resources.Process(\n",
      "    id=\"hello_world\",\n",
      "    process_version=\"1.0.0\"\n",
      "    title=\"Echo Process\",\n",
      "    abstract=\"This process accepts and number of input and simple echoes each input as an output.\",\n",
      "    keywords=\"None\"\n",
      ")\n"
     ]
    }
   ],
   "source": [
    "print(process)"
   ]
  },
  {
   "cell_type": "code",
   "execution_count": 8,
   "id": "667f1082-9ce1-473d-8e8e-f96deb974dab",
   "metadata": {},
   "outputs": [
    {
     "name": "stdout",
     "output_type": "stream",
     "text": [
      "String Literal Input Example\n",
      "Numerical Value with UOM Example\n",
      "Date Literal Input Example\n",
      "Bounded Double Literal Input Example\n",
      "Array Input Example\n",
      "Complex Object Input Example\n",
      "Geometry input\n",
      "Bounding Box Input Example\n",
      "Inline Images Value Input\n",
      "Feature Collection Input Example.\n"
     ]
    }
   ],
   "source": [
    "for i in process.inputs:\n",
    "    inputs = i.to_dict()\n",
    "    for k in  inputs.keys():\n",
    "        print(inputs[k]['title'])"
   ]
  },
  {
   "cell_type": "code",
   "execution_count": 9,
   "id": "4057003a-ccec-4321-8c12-404d7ff1275a",
   "metadata": {},
   "outputs": [],
   "source": [
    "# Here we submit the job. Currently we submit a dictionary with the required 'inputs', 'outputs','subcscriber' keys if needed\n",
    "# We need to focus on building out the process_inputs progrmatically.\n",
    "submitted_job = process.execute({})"
   ]
  },
  {
   "cell_type": "code",
   "execution_count": 10,
   "id": "e93fdfcc-9e97-418f-bfb5-c9b159b80ee9",
   "metadata": {},
   "outputs": [
    {
     "name": "stdout",
     "output_type": "stream",
     "text": [
      "unity_sds_client.resources.Job(\n",
      "    id=\"ba3b31bd-3ae9-4be5-a195-0a56d88cfb4e\",\n",
      "    process=\"hello_world\",\n",
      "    status=\"accepted\",\n",
      "    inputs=None\n",
      ")\n"
     ]
    }
   ],
   "source": [
    "print(submitted_job)"
   ]
  },
  {
   "cell_type": "code",
   "execution_count": 11,
   "id": "a18a5727-750c-4307-b77c-7389d4ccc0f4",
   "metadata": {},
   "outputs": [
    {
     "name": "stdout",
     "output_type": "stream",
     "text": [
      "job ba3b31bd-3ae9-4be5-a195-0a56d88cfb4e is not complete. Currently in state JobStatus.ACCEPTED \n",
      "job ba3b31bd-3ae9-4be5-a195-0a56d88cfb4e is not complete. Currently in state JobStatus.RUNNING \n",
      "job ba3b31bd-3ae9-4be5-a195-0a56d88cfb4e is not complete. Currently in state JobStatus.RUNNING \n",
      "job ba3b31bd-3ae9-4be5-a195-0a56d88cfb4e is not complete. Currently in state JobStatus.RUNNING \n",
      "job ba3b31bd-3ae9-4be5-a195-0a56d88cfb4e is not complete. Currently in state JobStatus.RUNNING \n",
      "job ba3b31bd-3ae9-4be5-a195-0a56d88cfb4e is not complete. Currently in state JobStatus.RUNNING \n",
      "job ba3b31bd-3ae9-4be5-a195-0a56d88cfb4e is not complete. Currently in state JobStatus.RUNNING \n",
      "Job ba3b31bd-3ae9-4be5-a195-0a56d88cfb4e completed with status JobStatus.SUCCESSFUL\n"
     ]
    }
   ],
   "source": [
    "import time\n",
    "\n",
    "status = submitted_job.get_status().status\n",
    "while status in [JobStatus.ACCEPTED, JobStatus.RUNNING]:\n",
    "    print(\"job {} is not complete. Currently in state {} \".format(submitted_job.id, submitted_job.get_status().status))\n",
    "    time.sleep(5)\n",
    "    status = submitted_job.get_status().status\n",
    "\n",
    "print(\"Job {} completed with status {}\".format(submitted_job.id, str(submitted_job.get_status().status)))\n",
    "\n",
    "\n",
    "    "
   ]
  },
  {
   "cell_type": "code",
   "execution_count": 12,
   "id": "ce1ae133-4a84-434e-b0b9-defbab57af9a",
   "metadata": {},
   "outputs": [
    {
     "data": {
      "text/plain": [
       "[]"
      ]
     },
     "execution_count": 12,
     "metadata": {},
     "output_type": "execute_result"
    }
   ],
   "source": [
    "submitted_job.get_result()"
   ]
  },
  {
   "cell_type": "code",
   "execution_count": 13,
   "id": "2875c57c-7383-4977-8cc0-b4d1ae14653d",
   "metadata": {},
   "outputs": [
    {
     "name": "stdout",
     "output_type": "stream",
     "text": [
      "unity_sds_client.resources.Job(\n",
      "    id=\"ba3b31bd-3ae9-4be5-a195-0a56d88cfb4e\",\n",
      "    process=\"hello_world\",\n",
      "    status=\"dismissed\",\n",
      "    inputs=None\n",
      ")\n"
     ]
    }
   ],
   "source": [
    "status = submitted_job.dismiss()\n",
    "print(status)"
   ]
  },
  {
   "cell_type": "code",
   "execution_count": 14,
   "id": "ae823803-05cf-420f-a8de-dd88157f7bfe",
   "metadata": {},
   "outputs": [],
   "source": [
    "jobs = process_service.get_jobs()"
   ]
  },
  {
   "cell_type": "code",
   "execution_count": 15,
   "id": "af2caec6-f393-433f-86ba-24b178bdef12",
   "metadata": {},
   "outputs": [
    {
     "name": "stdout",
     "output_type": "stream",
     "text": [
      "unity_sds_client.resources.Job(\n",
      "    id=\"66ba8e7b-58a7-468a-ac6b-26d2a8401ce6\",\n",
      "    process=\"None\",\n",
      "    status=\"accepted\",\n",
      "    inputs=None\n",
      ")\n",
      "unity_sds_client.resources.Job(\n",
      "    id=\"afffe7b3-91e8-40c2-9c50-8e953cccf420\",\n",
      "    process=\"None\",\n",
      "    status=\"accepted\",\n",
      "    inputs=None\n",
      ")\n",
      "unity_sds_client.resources.Job(\n",
      "    id=\"c41fc3db-e2f5-4697-a14c-5ed63bfa3084\",\n",
      "    process=\"None\",\n",
      "    status=\"accepted\",\n",
      "    inputs=None\n",
      ")\n",
      "unity_sds_client.resources.Job(\n",
      "    id=\"20b5ef42-fcdb-4456-b052-4451587d007c\",\n",
      "    process=\"None\",\n",
      "    status=\"accepted\",\n",
      "    inputs=None\n",
      ")\n",
      "unity_sds_client.resources.Job(\n",
      "    id=\"a0730f61-9b8a-47f2-9aae-8529199d2db3\",\n",
      "    process=\"None\",\n",
      "    status=\"accepted\",\n",
      "    inputs=None\n",
      ")\n",
      "unity_sds_client.resources.Job(\n",
      "    id=\"36a208ff-4011-41cd-be9e-6081bc08342d\",\n",
      "    process=\"None\",\n",
      "    status=\"accepted\",\n",
      "    inputs=None\n",
      ")\n",
      "unity_sds_client.resources.Job(\n",
      "    id=\"36b9f9b1-1b34-462c-8640-a4a40932be96\",\n",
      "    process=\"None\",\n",
      "    status=\"accepted\",\n",
      "    inputs=None\n",
      ")\n",
      "unity_sds_client.resources.Job(\n",
      "    id=\"0af3db76-0b5e-46dc-a6b4-a648734c73d1\",\n",
      "    process=\"None\",\n",
      "    status=\"accepted\",\n",
      "    inputs=None\n",
      ")\n",
      "unity_sds_client.resources.Job(\n",
      "    id=\"9a48308e-f96e-438a-93e0-56d374dc509b\",\n",
      "    process=\"None\",\n",
      "    status=\"accepted\",\n",
      "    inputs=None\n",
      ")\n",
      "unity_sds_client.resources.Job(\n",
      "    id=\"e9224e92-1bf8-4a44-aa12-dbed0e96ce8d\",\n",
      "    process=\"None\",\n",
      "    status=\"accepted\",\n",
      "    inputs=None\n",
      ")\n",
      "unity_sds_client.resources.Job(\n",
      "    id=\"42989408-d3cf-4e60-97d5-b996bb064221\",\n",
      "    process=\"None\",\n",
      "    status=\"accepted\",\n",
      "    inputs=None\n",
      ")\n",
      "unity_sds_client.resources.Job(\n",
      "    id=\"6f71ad5b-a49f-426b-9bf4-121b8c827e70\",\n",
      "    process=\"None\",\n",
      "    status=\"accepted\",\n",
      "    inputs=None\n",
      ")\n",
      "unity_sds_client.resources.Job(\n",
      "    id=\"0c2eeaf4-afc1-47db-b8f7-7477f506b47b\",\n",
      "    process=\"None\",\n",
      "    status=\"accepted\",\n",
      "    inputs=None\n",
      ")\n",
      "unity_sds_client.resources.Job(\n",
      "    id=\"67ba84f5-7d4f-4217-8b51-fb00d3a9db1a\",\n",
      "    process=\"None\",\n",
      "    status=\"accepted\",\n",
      "    inputs=None\n",
      ")\n",
      "unity_sds_client.resources.Job(\n",
      "    id=\"1755a7fb-2744-4806-b836-199638fcb7df\",\n",
      "    process=\"None\",\n",
      "    status=\"accepted\",\n",
      "    inputs=None\n",
      ")\n",
      "unity_sds_client.resources.Job(\n",
      "    id=\"4f7d3fde-da34-4085-8fd4-29f1d4050761\",\n",
      "    process=\"None\",\n",
      "    status=\"accepted\",\n",
      "    inputs=None\n",
      ")\n",
      "unity_sds_client.resources.Job(\n",
      "    id=\"6f49be56-6b56-48c0-bce8-b3b9c7449e11\",\n",
      "    process=\"None\",\n",
      "    status=\"accepted\",\n",
      "    inputs=None\n",
      ")\n",
      "unity_sds_client.resources.Job(\n",
      "    id=\"98bfadf8-9d51-495f-93d2-3db6f6b6e658\",\n",
      "    process=\"None\",\n",
      "    status=\"accepted\",\n",
      "    inputs=None\n",
      ")\n",
      "unity_sds_client.resources.Job(\n",
      "    id=\"d9dec7ca-7c9a-45bd-9618-c9c1392a01ae\",\n",
      "    process=\"None\",\n",
      "    status=\"accepted\",\n",
      "    inputs=None\n",
      ")\n",
      "unity_sds_client.resources.Job(\n",
      "    id=\"970ee360-fbdd-42d6-b66e-d6c763a78327\",\n",
      "    process=\"None\",\n",
      "    status=\"accepted\",\n",
      "    inputs=None\n",
      ")\n",
      "unity_sds_client.resources.Job(\n",
      "    id=\"00ab43e9-2ab3-4920-b848-63e7c2234859\",\n",
      "    process=\"None\",\n",
      "    status=\"accepted\",\n",
      "    inputs=None\n",
      ")\n",
      "unity_sds_client.resources.Job(\n",
      "    id=\"3ad68632-9778-460b-92d0-d73178324882\",\n",
      "    process=\"None\",\n",
      "    status=\"accepted\",\n",
      "    inputs=None\n",
      ")\n",
      "unity_sds_client.resources.Job(\n",
      "    id=\"c47a35e0-999f-443e-a62d-9fa8f955e073\",\n",
      "    process=\"None\",\n",
      "    status=\"accepted\",\n",
      "    inputs=None\n",
      ")\n",
      "unity_sds_client.resources.Job(\n",
      "    id=\"3675b680-2538-4a89-b4e9-adf40711b370\",\n",
      "    process=\"None\",\n",
      "    status=\"accepted\",\n",
      "    inputs=None\n",
      ")\n",
      "unity_sds_client.resources.Job(\n",
      "    id=\"8534b3a9-ab74-4bd9-a9d7-b85a1b4a1f39\",\n",
      "    process=\"None\",\n",
      "    status=\"accepted\",\n",
      "    inputs=None\n",
      ")\n",
      "unity_sds_client.resources.Job(\n",
      "    id=\"5060e542-517b-4058-9ea7-f3722e115ca1\",\n",
      "    process=\"None\",\n",
      "    status=\"accepted\",\n",
      "    inputs=None\n",
      ")\n",
      "unity_sds_client.resources.Job(\n",
      "    id=\"da9b10c5-adf0-4e06-aa13-95011e8734cd\",\n",
      "    process=\"None\",\n",
      "    status=\"accepted\",\n",
      "    inputs=None\n",
      ")\n",
      "unity_sds_client.resources.Job(\n",
      "    id=\"0252c49f-b83e-4189-9a11-8854eee6d7d2\",\n",
      "    process=\"None\",\n",
      "    status=\"successful\",\n",
      "    inputs=None\n",
      ")\n",
      "unity_sds_client.resources.Job(\n",
      "    id=\"f7144172-b7ec-4c45-9ac8-3a911c9a1f85\",\n",
      "    process=\"None\",\n",
      "    status=\"accepted\",\n",
      "    inputs=None\n",
      ")\n",
      "unity_sds_client.resources.Job(\n",
      "    id=\"b085f603-93f1-485b-b1a2-1268b93dab3a\",\n",
      "    process=\"kubernetes_tasks_with_affinity\",\n",
      "    status=\"accepted\",\n",
      "    inputs=None\n",
      ")\n",
      "unity_sds_client.resources.Job(\n",
      "    id=\"f032c5ff-1a4a-4a29-9834-8794fa9c3a7b\",\n",
      "    process=\"None\",\n",
      "    status=\"accepted\",\n",
      "    inputs=None\n",
      ")\n",
      "unity_sds_client.resources.Job(\n",
      "    id=\"54f0f851-ee22-411d-a42c-2af49c3384f5\",\n",
      "    process=\"None\",\n",
      "    status=\"accepted\",\n",
      "    inputs=None\n",
      ")\n",
      "unity_sds_client.resources.Job(\n",
      "    id=\"7a75d9b4-9036-4c35-93b1-31df2d45abea\",\n",
      "    process=\"None\",\n",
      "    status=\"accepted\",\n",
      "    inputs=None\n",
      ")\n",
      "unity_sds_client.resources.Job(\n",
      "    id=\"d9ae9c93-fe70-42c7-bef0-b1b91c0b05d9\",\n",
      "    process=\"hello_world\",\n",
      "    status=\"successful\",\n",
      "    inputs=None\n",
      ")\n",
      "unity_sds_client.resources.Job(\n",
      "    id=\"49d3bd33-1697-47ba-8b5a-f49dd2b7d235\",\n",
      "    process=\"kubernetes_tasks_with_affinity\",\n",
      "    status=\"accepted\",\n",
      "    inputs=None\n",
      ")\n",
      "unity_sds_client.resources.Job(\n",
      "    id=\"1cea771b-0410-4757-8098-7e00fe7f16a0\",\n",
      "    process=\"kubernetes_tasks_with_affinity\",\n",
      "    status=\"accepted\",\n",
      "    inputs=None\n",
      ")\n",
      "unity_sds_client.resources.Job(\n",
      "    id=\"f4f20eb9-484d-48a4-9f0d-e203df5992f7\",\n",
      "    process=\"hello_world\",\n",
      "    status=\"accepted\",\n",
      "    inputs=None\n",
      ")\n",
      "unity_sds_client.resources.Job(\n",
      "    id=\"3921330a-0715-49bb-b446-05e7fa9d1079\",\n",
      "    process=\"hello_world\",\n",
      "    status=\"accepted\",\n",
      "    inputs=None\n",
      ")\n",
      "unity_sds_client.resources.Job(\n",
      "    id=\"a9d46fae-c872-41d3-9569-08a42eb4f7d6\",\n",
      "    process=\"hello_world\",\n",
      "    status=\"accepted\",\n",
      "    inputs=None\n",
      ")\n",
      "unity_sds_client.resources.Job(\n",
      "    id=\"f39786ae-7014-4764-8a10-86a5e84e636f\",\n",
      "    process=\"hello_world\",\n",
      "    status=\"successful\",\n",
      "    inputs=None\n",
      ")\n",
      "unity_sds_client.resources.Job(\n",
      "    id=\"5772d5b7-d94d-4be5-904e-941018beb7e8\",\n",
      "    process=\"hello_world\",\n",
      "    status=\"successful\",\n",
      "    inputs=None\n",
      ")\n",
      "unity_sds_client.resources.Job(\n",
      "    id=\"2576c595-f7e3-4d25-9acc-dc1412358ffa\",\n",
      "    process=\"hello_world\",\n",
      "    status=\"successful\",\n",
      "    inputs=None\n",
      ")\n",
      "unity_sds_client.resources.Job(\n",
      "    id=\"e8c91aa5-78f5-4b62-bd68-3a89df4f1318\",\n",
      "    process=\"hello_world\",\n",
      "    status=\"successful\",\n",
      "    inputs=None\n",
      ")\n"
     ]
    }
   ],
   "source": [
    "for j in jobs:\n",
    "    print(j)"
   ]
  },
  {
   "cell_type": "code",
   "execution_count": null,
   "id": "d524b977-41f3-40fd-b563-9baf4746ce12",
   "metadata": {},
   "outputs": [],
   "source": []
  }
 ],
 "metadata": {
  "kernelspec": {
   "display_name": "Python 3 (ipykernel)",
   "language": "python",
   "name": "python3"
  },
  "language_info": {
   "codemirror_mode": {
    "name": "ipython",
    "version": 3
   },
   "file_extension": ".py",
   "mimetype": "text/x-python",
   "name": "python",
   "nbconvert_exporter": "python",
   "pygments_lexer": "ipython3",
   "version": "3.10.8"
  }
 },
 "nbformat": 4,
 "nbformat_minor": 5
}
